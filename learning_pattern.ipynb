{
 "cells": [
  {
   "cell_type": "code",
   "execution_count": 8,
   "metadata": {},
   "outputs": [
    {
     "name": "stdout",
     "output_type": "stream",
     "text": [
      "[[5.1 3.5 1.4 0.2]\n",
      " [4.9 3.  1.4 0.2]]\n",
      "[0 0 0 0 0 0 0 0 0 0 0 0 0 0 0 0 0 0 0 0 0 0 0 0 0 0 0 0 0 0 0 0 0 0 0 0 0\n",
      " 0 0 0 0 0 0 0 0 0 0 0 0 0 1 1 1 1 1 1 1 1 1 1 1 1 1 1 1 1 1 1 1 1 1 1 1 1\n",
      " 1 1 1 1 1 1 1 1 1 1 1 1 1 1 1 1 1 1 1 1 1 1 1 1 1 1 2 2 2 2 2 2 2 2 2 2 2\n",
      " 2 2 2 2 2 2 2 2 2 2 2 2 2 2 2 2 2 2 2 2 2 2 2 2 2 2 2 2 2 2 2 2 2 2 2 2 2\n",
      " 2 2]\n"
     ]
    }
   ],
   "source": [
    "import numpy as np\n",
    "from sklearn import datasets\n",
    "#1.9版本前用from sklearn.cross_validation import train_test_split\n",
    "#1.9之后使用：\n",
    "from sklearn.model_selection import train_test_split\n",
    "from sklearn.neighbors import KNeighborsClassifier\n",
    "\n",
    "#从sklearn。datasets中导入iris花的数据\n",
    "iris = datasets.load_iris()\n",
    "iris_X = iris.data\n",
    "iris_Y = iris.target\n",
    "\n",
    "print(iris_X[:2,:])#花蕾的半径数据\n",
    "print(iris_Y)#花的种类"
   ]
  },
  {
   "cell_type": "code",
   "execution_count": 9,
   "metadata": {},
   "outputs": [
    {
     "name": "stdout",
     "output_type": "stream",
     "text": [
      "[1 0 0 0 0 0 0 2 1 0 0 2 1 0 2 1 2 1 2 0 2 1 2 1 0 0 2 2 2 1 0 1 0 1 1 1 2\n",
      " 0 2 2 1 0 2 2 0]\n",
      "[1 0 0 0 0 0 0 2 1 0 0 1 1 0 2 1 2 1 2 0 2 1 2 1 0 0 2 2 2 1 0 1 0 1 1 1 2\n",
      " 0 2 2 1 0 2 2 0]\n"
     ]
    }
   ],
   "source": [
    "#将iris data分成train和test数据\n",
    "#split---将数据打乱\n",
    "#把数据集分为训练集和测试集，其中 test_size=0.3，即测试集占总数据的 30%\n",
    "X_train,X_test,y_train,y_test = train_test_split(iris_X,iris_Y,test_size=0.3)\n",
    "# print(y_train)\n",
    "#knn分类 .fit()分类操作\n",
    "knn = KNeighborsClassifier()\n",
    "knn.fit(X_train,y_train)\n",
    "#使用knn.predict预测X_test,打印出来\n",
    "print(knn.predict(X_test))#预测值\n",
    "print(y_test)#真实值"
   ]
  }
 ],
 "metadata": {
  "kernelspec": {
   "display_name": "Python 3",
   "language": "python",
   "name": "python3"
  },
  "language_info": {
   "codemirror_mode": {
    "name": "ipython",
    "version": 3
   },
   "file_extension": ".py",
   "mimetype": "text/x-python",
   "name": "python",
   "nbconvert_exporter": "python",
   "pygments_lexer": "ipython3",
   "version": "3.6.7"
  }
 },
 "nbformat": 4,
 "nbformat_minor": 2
}
